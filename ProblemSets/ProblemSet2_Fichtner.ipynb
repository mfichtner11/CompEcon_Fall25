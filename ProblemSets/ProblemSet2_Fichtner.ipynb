{
 "cells": [
  {
   "cell_type": "markdown",
   "id": "3e8bf60a",
   "metadata": {},
   "source": [
    "## Problem Set 2\n",
    "### Marli Fichtner \n",
    "\n",
    "Due September 1, 2025\n",
    "\n",
    "* ACME_StandardLibrary: Problems 1-3\n",
    "* ACME_NumpyIntro: Problems 1, 2, 5\n"
   ]
  },
  {
   "cell_type": "markdown",
   "id": "111c6ae9",
   "metadata": {},
   "source": [
    "* Problem 1. Write a function that accepts a list L and returns the minimum, maximum, and average of the entries of L (in that order). Can you implement this function in a single line?"
   ]
  },
  {
   "cell_type": "code",
   "execution_count": 9,
   "id": "8ad5b668",
   "metadata": {},
   "outputs": [
    {
     "name": "stdout",
     "output_type": "stream",
     "text": [
      "2 200 44.0\n"
     ]
    }
   ],
   "source": [
    "L = [2,7,3,8,200]\n",
    "print(min(L),max(L),(sum(L)/len(L)))\n"
   ]
  },
  {
   "cell_type": "markdown",
   "id": "1299f05c",
   "metadata": {},
   "source": [
    "* Problem 2. Determine which of Python’s object types are mutable and which are immutable by repeating the following experiment for an int, str, list, tuple, and set.\n",
    "1. Create an object of the given type and assign a name to it.\n",
    "2. Assign a new name to the first name.\n",
    "3. Alter the object via only one of the names (for tuples, use my_tuple += (1,)).\n",
    "4. Check to see if the two names are equal. If they are, then since changing one name changed the other, the names refer to the same object and the object type is mutable. Otherwise, the names refer to different objects—meaning a copy was made in step 2—and therefore the object type is immutable. \n",
    "   For example, the following experiment shows that dict is a mutable type.\n",
    "   * dict_1 = {1: 'x', 2: 'b'} # Create a dictionary.\n",
    "   * dict_2 = dict_1 # Assign it a new name.\n",
    "   * dict_2[1] = 'a' # Change the 'new' dictionary.\n",
    "   * dict_1 == dict_2 # Compare the two names.\n",
    "      True # Both names changed!\n",
    "      Print a statement of your conclusions that clearly indicates which object types are mutable and\n",
    "      which are immutable.\n"
   ]
  },
  {
   "cell_type": "code",
   "execution_count": null,
   "id": "129a5e75",
   "metadata": {},
   "outputs": [],
   "source": [
    "integer_1 = {1,2,3,4}"
   ]
  }
 ],
 "metadata": {
  "kernelspec": {
   "display_name": "base",
   "language": "python",
   "name": "python3"
  },
  "language_info": {
   "codemirror_mode": {
    "name": "ipython",
    "version": 3
   },
   "file_extension": ".py",
   "mimetype": "text/x-python",
   "name": "python",
   "nbconvert_exporter": "python",
   "pygments_lexer": "ipython3",
   "version": "3.13.5"
  }
 },
 "nbformat": 4,
 "nbformat_minor": 5
}
